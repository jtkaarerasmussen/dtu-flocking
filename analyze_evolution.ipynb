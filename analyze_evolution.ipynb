{
 "cells": [
  {
   "cell_type": "markdown",
   "metadata": {},
   "source": [
    "# Evolution Analysis - Checkpoint Data\n",
    "\n",
    "This notebook loads and analyzes evolutionary simulation data from the checkpointing system.\n",
    "\n",
    "## Usage:\n",
    "1. Run the data loading cell to automatically find the latest simulation results\n",
    "2. Or specify a specific checkpoint directory: `data = load_checkpoint_history(\"evolution_checkpoints_TIMESTAMP\")`\n",
    "3. Run the plotting cells to visualize evolution dynamics"
   ]
  },
  {
   "cell_type": "code",
   "execution_count": 8,
   "metadata": {},
   "outputs": [],
   "source": [
    "import numpy as np\n",
    "import matplotlib.pyplot as plt\n",
    "import pickle\n",
    "import json\n",
    "import glob\n",
    "from pathlib import Path\n",
    "\n",
    "# Set up matplotlib for high quality plots\n",
    "plt.rcParams['figure.dpi'] = 150\n",
    "plt.rcParams['savefig.dpi'] = 300\n",
    "plt.rcParams['font.size'] = 10\n",
    "\n",
    "# Optional: Specify a checkpoint directory manually\n",
    "# CHECKPOINT_DIR = \"evolution_checkpoints_20250811_132116\"  # Uncomment and set to load specific run\n",
    "CHECKPOINT_DIR = None  # Use None to automatically find the latest"
   ]
  },
  {
   "cell_type": "code",
   "execution_count": 9,
   "metadata": {},
   "outputs": [
    {
     "ename": "FileNotFoundError",
     "evalue": "No checkpoint directories found. Run evolution_checkpoint.py first!",
     "output_type": "error",
     "traceback": [
      "\u001b[0;31m---------------------------------------------------------------------------\u001b[0m",
      "\u001b[0;31mFileNotFoundError\u001b[0m                         Traceback (most recent call last)",
      "Cell \u001b[0;32mIn[9], line 37\u001b[0m\n\u001b[1;32m     34\u001b[0m     \u001b[38;5;28;01mraise\u001b[39;00m \u001b[38;5;167;01mFileNotFoundError\u001b[39;00m(\u001b[38;5;124mf\u001b[39m\u001b[38;5;124m\"\u001b[39m\u001b[38;5;124mNo history files found in \u001b[39m\u001b[38;5;132;01m{\u001b[39;00mcheckpoint_dir\u001b[38;5;132;01m}\u001b[39;00m\u001b[38;5;124m\"\u001b[39m)\n\u001b[1;32m     36\u001b[0m \u001b[38;5;66;03m# Load the data\u001b[39;00m\n\u001b[0;32m---> 37\u001b[0m data \u001b[38;5;241m=\u001b[39m \u001b[43mload_checkpoint_history\u001b[49m\u001b[43m(\u001b[49m\u001b[43mCHECKPOINT_DIR\u001b[49m\u001b[43m)\u001b[49m\n\u001b[1;32m     38\u001b[0m history \u001b[38;5;241m=\u001b[39m data[\u001b[38;5;124m'\u001b[39m\u001b[38;5;124mhistory\u001b[39m\u001b[38;5;124m'\u001b[39m]\n\u001b[1;32m     39\u001b[0m parameters \u001b[38;5;241m=\u001b[39m data[\u001b[38;5;124m'\u001b[39m\u001b[38;5;124mparameters\u001b[39m\u001b[38;5;124m'\u001b[39m]\n",
      "Cell \u001b[0;32mIn[9], line 8\u001b[0m, in \u001b[0;36mload_checkpoint_history\u001b[0;34m(checkpoint_dir)\u001b[0m\n\u001b[1;32m      6\u001b[0m     checkpoint_dirs \u001b[38;5;241m=\u001b[39m \u001b[38;5;28msorted\u001b[39m([d \u001b[38;5;28;01mfor\u001b[39;00m d \u001b[38;5;129;01min\u001b[39;00m Path(\u001b[38;5;124m\"\u001b[39m\u001b[38;5;124m.\u001b[39m\u001b[38;5;124m\"\u001b[39m)\u001b[38;5;241m.\u001b[39mglob(\u001b[38;5;124m\"\u001b[39m\u001b[38;5;124mevolution_checkpoints_*\u001b[39m\u001b[38;5;124m\"\u001b[39m) \u001b[38;5;28;01mif\u001b[39;00m d\u001b[38;5;241m.\u001b[39mis_dir()])\n\u001b[1;32m      7\u001b[0m     \u001b[38;5;28;01mif\u001b[39;00m \u001b[38;5;129;01mnot\u001b[39;00m checkpoint_dirs:\n\u001b[0;32m----> 8\u001b[0m         \u001b[38;5;28;01mraise\u001b[39;00m \u001b[38;5;167;01mFileNotFoundError\u001b[39;00m(\u001b[38;5;124m\"\u001b[39m\u001b[38;5;124mNo checkpoint directories found. Run evolution_checkpoint.py first!\u001b[39m\u001b[38;5;124m\"\u001b[39m)\n\u001b[1;32m      9\u001b[0m     checkpoint_dir \u001b[38;5;241m=\u001b[39m checkpoint_dirs[\u001b[38;5;241m-\u001b[39m\u001b[38;5;241m1\u001b[39m]\n\u001b[1;32m     10\u001b[0m \u001b[38;5;28;01melse\u001b[39;00m:\n",
      "\u001b[0;31mFileNotFoundError\u001b[0m: No checkpoint directories found. Run evolution_checkpoint.py first!"
     ]
    }
   ],
   "source": [
    "# Load simulation data from checkpoint directory\n",
    "def load_checkpoint_history(checkpoint_dir=None):\n",
    "    \"\"\"Load history from checkpoint directory or find the most recent one\"\"\"\n",
    "    if checkpoint_dir is None:\n",
    "        # Find most recent checkpoint directory\n",
    "        checkpoint_dirs = sorted([d for d in Path(\".\").glob(\"evolution_checkpoints_*\") if d.is_dir()])\n",
    "        if not checkpoint_dirs:\n",
    "            raise FileNotFoundError(\"No checkpoint directories found. Run evolution_checkpoint.py first!\")\n",
    "        checkpoint_dir = checkpoint_dirs[-1]\n",
    "    else:\n",
    "        checkpoint_dir = Path(checkpoint_dir)\n",
    "    \n",
    "    print(f\"Loading data from: {checkpoint_dir}\")\n",
    "    \n",
    "    # Load complete history file\n",
    "    history_file = checkpoint_dir / \"complete_history.pkl\"\n",
    "    if history_file.exists():\n",
    "        with open(history_file, 'rb') as f:\n",
    "            data = pickle.load(f)\n",
    "        return data\n",
    "    \n",
    "    # Fallback: load from latest checkpoint\n",
    "    latest_checkpoint = checkpoint_dir / \"latest_checkpoint.pkl\"\n",
    "    if latest_checkpoint.exists():\n",
    "        with open(latest_checkpoint, 'rb') as f:\n",
    "            checkpoint_data = pickle.load(f)\n",
    "        return {\n",
    "            'history': checkpoint_data['history'],\n",
    "            'parameters': checkpoint_data['parameters'],\n",
    "            'final_generation': checkpoint_data['generation'],\n",
    "            'total_time': 0  # Not available in checkpoint\n",
    "        }\n",
    "    \n",
    "    raise FileNotFoundError(f\"No history files found in {checkpoint_dir}\")\n",
    "\n",
    "# Load the data\n",
    "data = load_checkpoint_history(CHECKPOINT_DIR)\n",
    "history = data['history']\n",
    "parameters = data['parameters']\n",
    "total_time = data.get('total_time', 0)\n",
    "final_generation = data.get('final_generation', len(history['generation']) - 1)\n",
    "\n",
    "print(f\"\\nSimulation parameters:\")\n",
    "for key, value in parameters.items():\n",
    "    print(f\"  {key}: {value}\")\n",
    "print(f\"\\nFinal generation: {final_generation}\")\n",
    "if total_time > 0:\n",
    "    print(f\"Total simulation time: {total_time:.2f} seconds\")"
   ]
  },
  {
   "cell_type": "code",
   "execution_count": 5,
   "metadata": {},
   "outputs": [
    {
     "ename": "NameError",
     "evalue": "name 'history' is not defined",
     "output_type": "error",
     "traceback": [
      "\u001b[0;31m---------------------------------------------------------------------------\u001b[0m",
      "\u001b[0;31mNameError\u001b[0m                                 Traceback (most recent call last)",
      "Cell \u001b[0;32mIn[5], line 2\u001b[0m\n\u001b[1;32m      1\u001b[0m \u001b[38;5;66;03m# Extract data for plotting\u001b[39;00m\n\u001b[0;32m----> 2\u001b[0m generations \u001b[38;5;241m=\u001b[39m \u001b[43mhistory\u001b[49m[\u001b[38;5;124m'\u001b[39m\u001b[38;5;124mgeneration\u001b[39m\u001b[38;5;124m'\u001b[39m]\n\u001b[1;32m      3\u001b[0m w_g_distributions \u001b[38;5;241m=\u001b[39m history[\u001b[38;5;124m'\u001b[39m\u001b[38;5;124mw_g_distribution\u001b[39m\u001b[38;5;124m'\u001b[39m]\n\u001b[1;32m      4\u001b[0m w_s_distributions \u001b[38;5;241m=\u001b[39m history[\u001b[38;5;124m'\u001b[39m\u001b[38;5;124mw_s_distribution\u001b[39m\u001b[38;5;124m'\u001b[39m]\n",
      "\u001b[0;31mNameError\u001b[0m: name 'history' is not defined"
     ]
    }
   ],
   "source": [
    "# Extract data for plotting\n",
    "generations = history['generation']\n",
    "w_g_distributions = history['w_g_distribution']\n",
    "w_s_distributions = history['w_s_distribution']\n",
    "mean_w_g = history['mean_w_g']\n",
    "std_w_g = history['std_w_g']\n",
    "mean_w_s = history['mean_w_s']\n",
    "std_w_s = history['std_w_s']\n",
    "mean_fitness = history['mean_fitness']\n",
    "\n",
    "num_generations = len(generations)\n",
    "print(f\"Data loaded: {num_generations} generations\")\n",
    "print(f\"Final w_g: mean={mean_w_g[-1]:.4f}, std={std_w_g[-1]:.4f}\")\n",
    "print(f\"Final w_s: mean={mean_w_s[-1]:.4f}, std={std_w_s[-1]:.4f}\")"
   ]
  },
  {
   "cell_type": "code",
   "execution_count": 6,
   "metadata": {},
   "outputs": [
    {
     "ename": "NameError",
     "evalue": "name 'w_g_distributions' is not defined",
     "output_type": "error",
     "traceback": [
      "\u001b[0;31m---------------------------------------------------------------------------\u001b[0m",
      "\u001b[0;31mNameError\u001b[0m                                 Traceback (most recent call last)",
      "Cell \u001b[0;32mIn[6], line 5\u001b[0m\n\u001b[1;32m      2\u001b[0m fig, axes \u001b[38;5;241m=\u001b[39m plt\u001b[38;5;241m.\u001b[39msubplots(\u001b[38;5;241m1\u001b[39m, \u001b[38;5;241m4\u001b[39m, figsize\u001b[38;5;241m=\u001b[39m(\u001b[38;5;241m16\u001b[39m, \u001b[38;5;241m4\u001b[39m))\n\u001b[1;32m      4\u001b[0m \u001b[38;5;66;03m# Plot 1: Gradient detection evolution (2D histogram)\u001b[39;00m\n\u001b[0;32m----> 5\u001b[0m \u001b[38;5;28;01mif\u001b[39;00m \u001b[38;5;28mlen\u001b[39m(\u001b[43mw_g_distributions\u001b[49m) \u001b[38;5;241m>\u001b[39m \u001b[38;5;241m0\u001b[39m:\n\u001b[1;32m      6\u001b[0m     max_w_g \u001b[38;5;241m=\u001b[39m \u001b[38;5;28mmax\u001b[39m(np\u001b[38;5;241m.\u001b[39mmax(dist) \u001b[38;5;28;01mfor\u001b[39;00m dist \u001b[38;5;129;01min\u001b[39;00m w_g_distributions \u001b[38;5;28;01mif\u001b[39;00m \u001b[38;5;28mlen\u001b[39m(dist) \u001b[38;5;241m>\u001b[39m \u001b[38;5;241m0\u001b[39m)\n\u001b[1;32m      7\u001b[0m     max_w_g \u001b[38;5;241m=\u001b[39m \u001b[38;5;28mmax\u001b[39m(max_w_g, \u001b[38;5;241m2.0\u001b[39m)  \u001b[38;5;66;03m# Ensure reasonable scale\u001b[39;00m\n",
      "\u001b[0;31mNameError\u001b[0m: name 'w_g_distributions' is not defined"
     ]
    },
    {
     "data": {
      "image/png": "[encoded data removed]",
      "text/plain": [
       "<Figure size 2400x600 with 4 Axes>"
      ]
     },
     "metadata": {},
     "output_type": "display_data"
    }
   ],
   "source": [
    "# Create Figure S2-style plot\n",
    "fig, axes = plt.subplots(1, 4, figsize=(16, 4))\n",
    "\n",
    "# Plot 1: Gradient detection evolution (2D histogram)\n",
    "if len(w_g_distributions) > 0:\n",
    "    max_w_g = max(np.max(dist) for dist in w_g_distributions if len(dist) > 0)\n",
    "    max_w_g = max(max_w_g, 2.0)  # Ensure reasonable scale\n",
    "    \n",
    "    gen_edges = np.linspace(0, num_generations, num_generations + 1)\n",
    "    w_g_edges = np.linspace(0, max_w_g, 50)\n",
    "    \n",
    "    hist_data_g = np.zeros((len(w_g_edges) - 1, len(gen_edges) - 1))\n",
    "    \n",
    "    for i, w_g_dist in enumerate(w_g_distributions):\n",
    "        if len(w_g_dist) > 0:\n",
    "            hist, _ = np.histogram(w_g_dist, bins=w_g_edges)\n",
    "            hist_data_g[:, i] = hist\n",
    "    \n",
    "    im_g = axes[0].imshow(hist_data_g, aspect='auto', origin='lower',\n",
    "                         extent=[0, num_generations, 0, max_w_g], \n",
    "                         cmap='hot', interpolation='nearest',vmax=50)\n",
    "\n",
    "    axes[0].set_xlabel('Generation')\n",
    "    axes[0].set_ylabel('Gradient detection: ωg')\n",
    "    axes[0].set_title('Gradient Detection Evolution')\n",
    "    plt.colorbar(im_g, ax=axes[0], label='Individuals')\n",
    "\n",
    "# Plot 2: Sociality evolution (2D histogram)\n",
    "if len(w_s_distributions) > 0:\n",
    "    max_w_s = max(np.max(dist) for dist in w_s_distributions if len(dist) > 0)\n",
    "    max_w_s = max(max_w_s, 2.0)\n",
    "    \n",
    "    w_s_edges = np.linspace(0, max_w_s, 50)\n",
    "    hist_data_s = np.zeros((len(w_s_edges) - 1, len(gen_edges) - 1))\n",
    "    \n",
    "    for i, w_s_dist in enumerate(w_s_distributions):\n",
    "        if len(w_s_dist) > 0:\n",
    "            hist, _ = np.histogram(w_s_dist, bins=w_s_edges)\n",
    "            hist_data_s[:, i] = hist\n",
    "    \n",
    "    im_s = axes[1].imshow(hist_data_s, aspect='auto', origin='lower',\n",
    "                         extent=[0, num_generations, 0, max_w_s],\n",
    "                         cmap='hot', interpolation='nearest',vmax=50)\n",
    "    axes[1].set_xlabel('Generation')\n",
    "    axes[1].set_ylabel('Sociality: ωs')\n",
    "    axes[1].set_title('Sociality Evolution')\n",
    "    plt.colorbar(im_s, ax=axes[1], label='Individuals')\n",
    "\n",
    "# Plot 3: Mean w_g over time with adaptive scaling\n",
    "axes[2].plot(generations, mean_w_g, 'r-', linewidth=2, label='Mean ωg')\n",
    "axes[2].fill_between(generations,\n",
    "                    np.array(mean_w_g) - np.array(std_w_g),\n",
    "                    np.array(mean_w_g) + np.array(std_w_g),\n",
    "                    alpha=0.3, color='red', label='±1 std')\n",
    "\n",
    "# Adaptive y-axis scaling for w_g\n",
    "if len(mean_w_g) > 0:\n",
    "    w_g_min = min(0, min(mean_w_g) - max(std_w_g))\n",
    "    w_g_max = max(mean_w_g) + max(std_w_g)\n",
    "    w_g_range = w_g_max - w_g_min\n",
    "    \n",
    "    # Add 10% padding, but ensure minimum range for visibility\n",
    "    if w_g_range < 0.1:\n",
    "        w_g_center = (w_g_max + w_g_min) / 2\n",
    "        axes[2].set_ylim(w_g_center - 0.05, w_g_center + 0.05)\n",
    "    else:\n",
    "        axes[2].set_ylim(w_g_min - 0.1*w_g_range, w_g_max + 0.1*w_g_range)\n",
    "\n",
    "axes[2].set_xlabel('Generation')\n",
    "axes[2].set_ylabel('Mean ωg')\n",
    "axes[2].set_title('Mean Gradient Detection')\n",
    "axes[2].legend()\n",
    "axes[2].grid(True, alpha=0.3)\n",
    "\n",
    "# Plot 4: Mean w_s over time with adaptive scaling\n",
    "axes[3].plot(generations, mean_w_s, 'b-', linewidth=2, label='Mean ωs')\n",
    "axes[3].fill_between(generations,\n",
    "                    np.array(mean_w_s) - np.array(std_w_s),\n",
    "                    np.array(mean_w_s) + np.array(std_w_s),\n",
    "                    alpha=0.3, color='blue', label='±1 std')\n",
    "\n",
    "# Adaptive y-axis scaling for w_s\n",
    "if len(mean_w_s) > 0:\n",
    "    w_s_min = min(0, min(mean_w_s) - max(std_w_s))\n",
    "    w_s_max = max(mean_w_s) + max(std_w_s)\n",
    "    w_s_range = w_s_max - w_s_min\n",
    "    \n",
    "    # Add 10% padding, but ensure minimum range for visibility\n",
    "    if w_s_range < 0.1:\n",
    "        w_s_center = (w_s_max + w_s_min) / 2\n",
    "        axes[3].set_ylim(w_s_center - 0.05, w_s_center + 0.05)\n",
    "    else:\n",
    "        axes[3].set_ylim(w_s_min - 0.1*w_s_range, w_s_max + 0.1*w_s_range)\n",
    "\n",
    "axes[3].set_xlabel('Generation')\n",
    "axes[3].set_ylabel('Mean ωs')\n",
    "axes[3].set_title('Mean Sociality')\n",
    "axes[3].legend()\n",
    "axes[3].grid(True, alpha=0.3)\n",
    "\n",
    "# Update title to use available parameters\n",
    "pg_val = parameters.get(\"pg\", \"N/A\")\n",
    "num_agents_val = parameters.get(\"num_agents\", \"N/A\") \n",
    "title_time = f\", {total_time:.1f}s\" if total_time > 0 else \"\"\n",
    "\n",
    "plt.suptitle(f'Evolution Dynamics: pg={pg_val}, N={num_agents_val}, ' \n",
    "            f'{final_generation+1} generations{title_time}', fontsize=12)\n",
    "\n",
    "plt.tight_layout()\n",
    "plt.show()"
   ]
  },
  {
   "cell_type": "code",
   "execution_count": 7,
   "metadata": {},
   "outputs": [
    {
     "ename": "NameError",
     "evalue": "name 'w_g_distributions' is not defined",
     "output_type": "error",
     "traceback": [
      "\u001b[0;31m---------------------------------------------------------------------------\u001b[0m",
      "\u001b[0;31mNameError\u001b[0m                                 Traceback (most recent call last)",
      "Cell \u001b[0;32mIn[7], line 2\u001b[0m\n\u001b[1;32m      1\u001b[0m \u001b[38;5;66;03m# Analyze final population for bifurcation\u001b[39;00m\n\u001b[0;32m----> 2\u001b[0m \u001b[38;5;28;01mif\u001b[39;00m \u001b[38;5;28mlen\u001b[39m(\u001b[43mw_g_distributions\u001b[49m) \u001b[38;5;241m>\u001b[39m \u001b[38;5;241m0\u001b[39m:\n\u001b[1;32m      3\u001b[0m     final_w_g \u001b[38;5;241m=\u001b[39m w_g_distributions[\u001b[38;5;241m-\u001b[39m\u001b[38;5;241m1\u001b[39m]\n\u001b[1;32m      4\u001b[0m     final_w_s \u001b[38;5;241m=\u001b[39m w_s_distributions[\u001b[38;5;241m-\u001b[39m\u001b[38;5;241m1\u001b[39m]\n",
      "\u001b[0;31mNameError\u001b[0m: name 'w_g_distributions' is not defined"
     ]
    }
   ],
   "source": [
    "# Analyze final population for bifurcation\n",
    "if len(w_g_distributions) > 0:\n",
    "    final_w_g = w_g_distributions[-1]\n",
    "    final_w_s = w_s_distributions[-1]\n",
    "    \n",
    "    \n",
    "    \n",
    "    # Plot final population scatter\n",
    "    plt.figure(figsize=(8, 6))\n",
    "    plt.scatter(final_w_g, final_w_s, alpha=0.6, s=30)\n",
    "    plt.xlabel('Gradient detection (ωg)')\n",
    "    plt.ylabel('Sociality (ωs)')\n",
    "    plt.title('Final Population Distribution')\n",
    "    plt.grid(True, alpha=0.3)\n",
    "    \n",
    "    # Add lines to show threshold\n",
    "    # plt.axvline(x=0.5, color='red', linestyle='--', alpha=0.5, label='w_g = 0.5')\n",
    "    # plt.axhline(y=0.5, color='blue', linestyle='--', alpha=0.5, label='w_s = 0.5')\n",
    "    plt.legend()\n",
    "    plt.show()\n",
    "    "
   ]
  },
  {
   "cell_type": "code",
   "execution_count": null,
   "metadata": {},
   "outputs": [
    {
     "ename": "AttributeError",
     "evalue": "'multinomial_gen' object has no attribute 'pdf'",
     "output_type": "error",
     "traceback": [
      "\u001b[0;31m---------------------------------------------------------------------------\u001b[0m",
      "\u001b[0;31mAttributeError\u001b[0m                            Traceback (most recent call last)",
      "Cell \u001b[0;32mIn[27], line 35\u001b[0m\n\u001b[1;32m     31\u001b[0m wrap \u001b[38;5;241m=\u001b[39m\u001b[38;5;28;01mlambda\u001b[39;00m x: neg_log_likelihood(\u001b[38;5;241m*\u001b[39mx, population\u001b[38;5;241m=\u001b[39mpopulation)\n\u001b[1;32m     33\u001b[0m inital_guess \u001b[38;5;241m=\u001b[39m (\u001b[38;5;241m0.0\u001b[39m,\u001b[38;5;241m0.3\u001b[39m,\u001b[38;5;241m0.3\u001b[39m,\u001b[38;5;241m0.3\u001b[39m,\u001b[38;5;241m0.1\u001b[39m,\u001b[38;5;241m0\u001b[39m,\u001b[38;5;241m0.1\u001b[39m,\u001b[38;5;241m0\u001b[39m,\u001b[38;5;241m0.1\u001b[39m,\u001b[38;5;241m0\u001b[39m,\u001b[38;5;241m0\u001b[39m,\u001b[38;5;241m0.1\u001b[39m,\u001b[38;5;241m0.75\u001b[39m)\n\u001b[0;32m---> 35\u001b[0m \u001b[43mwrap\u001b[49m\u001b[43m(\u001b[49m\u001b[43minital_guess\u001b[49m\u001b[43m)\u001b[49m\n\u001b[1;32m     36\u001b[0m \u001b[38;5;66;03m# minimize(wrap,inital_guess)\u001b[39;00m\n",
      "Cell \u001b[0;32mIn[27], line 31\u001b[0m, in \u001b[0;36m<lambda>\u001b[0;34m(x)\u001b[0m\n\u001b[1;32m     28\u001b[0m         ell \u001b[38;5;241m+\u001b[39m\u001b[38;5;241m=\u001b[39m np\u001b[38;5;241m.\u001b[39mlog(pdf([p[\u001b[38;5;124m\"\u001b[39m\u001b[38;5;124mw_g\u001b[39m\u001b[38;5;124m\"\u001b[39m],p[\u001b[38;5;124m\"\u001b[39m\u001b[38;5;124mw_s\u001b[39m\u001b[38;5;124m\"\u001b[39m]], mu0, mu1, cov0,cov1, weight))\n\u001b[1;32m     29\u001b[0m     \u001b[38;5;28;01mreturn\u001b[39;00m \u001b[38;5;241m-\u001b[39mell\n\u001b[0;32m---> 31\u001b[0m wrap \u001b[38;5;241m=\u001b[39m\u001b[38;5;28;01mlambda\u001b[39;00m x: \u001b[43mneg_log_likelihood\u001b[49m\u001b[43m(\u001b[49m\u001b[38;5;241;43m*\u001b[39;49m\u001b[43mx\u001b[49m\u001b[43m,\u001b[49m\u001b[43m \u001b[49m\u001b[43mpopulation\u001b[49m\u001b[38;5;241;43m=\u001b[39;49m\u001b[43mpopulation\u001b[49m\u001b[43m)\u001b[49m\n\u001b[1;32m     33\u001b[0m inital_guess \u001b[38;5;241m=\u001b[39m (\u001b[38;5;241m0.0\u001b[39m,\u001b[38;5;241m0.3\u001b[39m,\u001b[38;5;241m0.3\u001b[39m,\u001b[38;5;241m0.3\u001b[39m,\u001b[38;5;241m0.1\u001b[39m,\u001b[38;5;241m0\u001b[39m,\u001b[38;5;241m0.1\u001b[39m,\u001b[38;5;241m0\u001b[39m,\u001b[38;5;241m0.1\u001b[39m,\u001b[38;5;241m0\u001b[39m,\u001b[38;5;241m0\u001b[39m,\u001b[38;5;241m0.1\u001b[39m,\u001b[38;5;241m0.75\u001b[39m)\n\u001b[1;32m     35\u001b[0m wrap(inital_guess)\n",
      "Cell \u001b[0;32mIn[27], line 28\u001b[0m, in \u001b[0;36mneg_log_likelihood\u001b[0;34m(mu0_0, mu0_1, mu1_0, mu1_1, cov0_11, cov0_12, cov0_21, cov0_22, cov1_11, cov1_12, cov1_21, cov1_22, weight, population)\u001b[0m\n\u001b[1;32m     26\u001b[0m ell \u001b[38;5;241m=\u001b[39m \u001b[38;5;241m1\u001b[39m\n\u001b[1;32m     27\u001b[0m \u001b[38;5;28;01mfor\u001b[39;00m p \u001b[38;5;129;01min\u001b[39;00m population:\n\u001b[0;32m---> 28\u001b[0m     ell \u001b[38;5;241m+\u001b[39m\u001b[38;5;241m=\u001b[39m np\u001b[38;5;241m.\u001b[39mlog(\u001b[43mpdf\u001b[49m\u001b[43m(\u001b[49m\u001b[43m[\u001b[49m\u001b[43mp\u001b[49m\u001b[43m[\u001b[49m\u001b[38;5;124;43m\"\u001b[39;49m\u001b[38;5;124;43mw_g\u001b[39;49m\u001b[38;5;124;43m\"\u001b[39;49m\u001b[43m]\u001b[49m\u001b[43m,\u001b[49m\u001b[43mp\u001b[49m\u001b[43m[\u001b[49m\u001b[38;5;124;43m\"\u001b[39;49m\u001b[38;5;124;43mw_s\u001b[39;49m\u001b[38;5;124;43m\"\u001b[39;49m\u001b[43m]\u001b[49m\u001b[43m]\u001b[49m\u001b[43m,\u001b[49m\u001b[43m \u001b[49m\u001b[43mmu0\u001b[49m\u001b[43m,\u001b[49m\u001b[43m \u001b[49m\u001b[43mmu1\u001b[49m\u001b[43m,\u001b[49m\u001b[43m \u001b[49m\u001b[43mcov0\u001b[49m\u001b[43m,\u001b[49m\u001b[43mcov1\u001b[49m\u001b[43m,\u001b[49m\u001b[43m \u001b[49m\u001b[43mweight\u001b[49m\u001b[43m)\u001b[49m)\n\u001b[1;32m     29\u001b[0m \u001b[38;5;28;01mreturn\u001b[39;00m \u001b[38;5;241m-\u001b[39mell\n",
      "Cell \u001b[0;32mIn[27], line 19\u001b[0m, in \u001b[0;36mpdf\u001b[0;34m(w_gs, mu0, mu1, cov0, cov1, weight)\u001b[0m\n\u001b[1;32m     18\u001b[0m \u001b[38;5;28;01mdef\u001b[39;00m\u001b[38;5;250m \u001b[39m\u001b[38;5;21mpdf\u001b[39m(w_gs, mu0,mu1, cov0, cov1, weight):\n\u001b[0;32m---> 19\u001b[0m     \u001b[38;5;28;01mreturn\u001b[39;00m weight\u001b[38;5;241m*\u001b[39m\u001b[43mmultinomial\u001b[49m\u001b[38;5;241;43m.\u001b[39;49m\u001b[43mpdf\u001b[49m(w_gs,mu0,cov0) \u001b[38;5;241m+\u001b[39m (\u001b[38;5;241m1\u001b[39m\u001b[38;5;241m-\u001b[39mweight)\u001b[38;5;241m*\u001b[39mmultinomial\u001b[38;5;241m.\u001b[39mpdf(w_gs,mu1,cov1)\n",
      "\u001b[0;31mAttributeError\u001b[0m: 'multinomial_gen' object has no attribute 'pdf'"
     ]
    }
   ],
   "source": [
    "from scipy.stats import multivariate_normal\n",
    "from scipy.optimize import minimize\n",
    "\n",
    "final_w_g = []\n",
    "final_w_s = []\n",
    "for i in range(320):\n",
    "    if i % 3 == 0:\n",
    "        final_w_g.append(max(np.random.normal(0.3,0.1),0))\n",
    "        final_w_s.append(max(np.random.normal(0.05,0.002),0))\n",
    "    else:\n",
    "        final_w_s.append(max(np.random.normal(0.45,0.1),0))\n",
    "        final_w_g.append(max(np.random.normal(0.05,0.002),0))\n",
    "\n",
    "population = []\n",
    "for wg,ws in zip(final_w_g,final_w_s):\n",
    "    population.append({\"w_g\":wg,\"w_s\":ws})\n",
    "\n",
    "def pdf(w_gs, mu0,mu1, cov0, cov1, weight):\n",
    "    return weight*multivariate_normal.pdf(w_gs,mu0,cov0) + (1-weight)*multivariate_normal.pdf(w_gs,mu1,cov1)\n",
    "\n",
    "def neg_log_likelihood(mu0_0,mu0_1,mu1_0,mu1_1,cov0_11,cov0_12,cov0_21,cov0_22,cov1_11,cov1_12,cov1_21,cov1_22,weight, population=population):\n",
    "    mu0 = np.array([mu0_0, mu0_1])\n",
    "    mu1 = np.array([mu1_0, mu1_1])\n",
    "    cov0 = np.array([[cov0_11,cov0_12],[cov0_21,cov0_22]])\n",
    "    cov1 = np.array([[cov1_11,cov1_12],[cov1_21,cov1_22]])\n",
    "    ell = 1\n",
    "    for p in population:\n",
    "        ell += np.log(pdf([p[\"w_g\"],p[\"w_s\"]], mu0, mu1, cov0,cov1, weight))\n",
    "    return -ell\n",
    "\n",
    "wrap =lambda x: neg_log_likelihood(*x, population=population)\n",
    "\n",
    "inital_guess = (0.0,0.3,0.3,0.3,0.1,0,0.1,0,0.1,0,0,0.1,0.75)\n",
    "\n",
    "wrap(inital_guess)\n",
    "# minimize(wrap,inital_guess)\n"
   ]
  },
  {
   "cell_type": "code",
   "execution_count": 26,
   "metadata": {},
   "outputs": [
    {
     "data": {
      "text/plain": [
       "0.04807566236696325"
      ]
     },
     "execution_count": 26,
     "metadata": {},
     "output_type": "execute_result"
    }
   ],
   "source": []
  },
  {
   "cell_type": "code",
   "execution_count": null,
   "metadata": {},
   "outputs": [],
   "source": []
  },
  {
   "cell_type": "code",
   "execution_count": null,
   "metadata": {},
   "outputs": [],
   "source": []
  },
  {
   "cell_type": "code",
   "execution_count": null,
   "metadata": {},
   "outputs": [],
   "source": []
  },
  {
   "cell_type": "code",
   "execution_count": null,
   "metadata": {},
   "outputs": [],
   "source": []
  },
  {
   "cell_type": "code",
   "execution_count": null,
   "metadata": {},
   "outputs": [],
   "source": []
  },
  {
   "cell_type": "code",
   "execution_count": null,
   "metadata": {},
   "outputs": [],
   "source": []
  },
  {
   "cell_type": "code",
   "execution_count": null,
   "metadata": {},
   "outputs": [],
   "source": []
  },
  {
   "cell_type": "code",
   "execution_count": null,
   "metadata": {},
   "outputs": [],
   "source": []
  },
  {
   "cell_type": "code",
   "execution_count": null,
   "metadata": {},
   "outputs": [],
   "source": []
  },
  {
   "cell_type": "code",
   "execution_count": null,
   "metadata": {},
   "outputs": [],
   "source": []
  },
  {
   "cell_type": "code",
   "execution_count": null,
   "metadata": {},
   "outputs": [],
   "source": []
  }
 ],
 "metadata": {
  "kernelspec": {
   "display_name": ".venv",
   "language": "python",
   "name": "python3"
  },
  "language_info": {
   "codemirror_mode": {
    "name": "ipython",
    "version": 3
   },
   "file_extension": ".py",
   "mimetype": "text/x-python",
   "name": "python",
   "nbconvert_exporter": "python",
   "pygments_lexer": "ipython3",
   "version": "3.12.3"
  }
 },
 "nbformat": 4,
 "nbformat_minor": 4
}
